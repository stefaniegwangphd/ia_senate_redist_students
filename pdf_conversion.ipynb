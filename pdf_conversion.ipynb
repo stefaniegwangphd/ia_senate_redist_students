{
 "cells": [
  {
   "cell_type": "code",
   "execution_count": 1,
   "id": "1fa1a03a",
   "metadata": {},
   "outputs": [],
   "source": [
    "import camelot\n",
    "import pandas as pd\n",
    "import numpy as np\n",
    "import geopandas as gpd"
   ]
  },
  {
   "cell_type": "code",
   "execution_count": 2,
   "id": "cae98548",
   "metadata": {},
   "outputs": [],
   "source": [
    "cities_raw = camelot.read_pdf('./SoS_files/cities.pdf', pages='all')"
   ]
  },
  {
   "cell_type": "code",
   "execution_count": 3,
   "id": "758ffaa8",
   "metadata": {},
   "outputs": [],
   "source": [
    "cities=pd.concat([cities_raw[i].df for i in range(24)],ignore_index=True)"
   ]
  },
  {
   "cell_type": "code",
   "execution_count": 4,
   "id": "f9f69953",
   "metadata": {},
   "outputs": [],
   "source": [
    "cities=cities.drop([0,1,2])\n",
    "cities.drop(cities.columns[2:5], axis=1, inplace=True)\n",
    "cities=cities.replace(',','',regex=True)\n",
    "cities=cities.replace('city', '', regex=True)\n",
    "cities.columns=['city', 'population']\n",
    "cities=cities.reset_index(drop=True)\n",
    "# cities"
   ]
  },
  {
   "cell_type": "code",
   "execution_count": 5,
   "id": "ac11f145",
   "metadata": {},
   "outputs": [],
   "source": [
    "cities.to_csv('./data/cities.csv', index=False, header=True)"
   ]
  },
  {
   "cell_type": "code",
   "execution_count": 6,
   "id": "131c961d",
   "metadata": {},
   "outputs": [],
   "source": [
    "townships_raw=camelot.read_pdf('./SoS_files/subdivisions.pdf', pages='all')"
   ]
  },
  {
   "cell_type": "code",
   "execution_count": 7,
   "id": "31337a55",
   "metadata": {},
   "outputs": [],
   "source": [
    "townships=pd.concat([townships_raw[i].df for i in range(39)],ignore_index=True)\n",
    "townships[['township', 'county']] = townships[0].str.split(',', n=1, expand=True)"
   ]
  },
  {
   "cell_type": "code",
   "execution_count": 8,
   "id": "75e16385",
   "metadata": {},
   "outputs": [],
   "source": [
    "townships=townships.drop([0,1,2])\n",
    "cols=[0, 2, 3, 4]\n",
    "townships.drop(townships.columns[cols], axis=1, inplace=True)\n",
    "townships=townships.replace(',','',regex=True)\n",
    "townships=townships.replace('County', '', regex=True)\n",
    "townships=townships.replace('township', '', regex=True)\n",
    "townships.columns=['population', 'township', 'county']\n",
    "townships_reordered=townships.loc[:, ['township', 'county', 'population']]"
   ]
  },
  {
   "cell_type": "code",
   "execution_count": 9,
   "id": "30690bc3",
   "metadata": {},
   "outputs": [
    {
     "data": {
      "text/html": [
       "<div>\n",
       "<style scoped>\n",
       "    .dataframe tbody tr th:only-of-type {\n",
       "        vertical-align: middle;\n",
       "    }\n",
       "\n",
       "    .dataframe tbody tr th {\n",
       "        vertical-align: top;\n",
       "    }\n",
       "\n",
       "    .dataframe thead th {\n",
       "        text-align: right;\n",
       "    }\n",
       "</style>\n",
       "<table border=\"1\" class=\"dataframe\">\n",
       "  <thead>\n",
       "    <tr style=\"text-align: right;\">\n",
       "      <th></th>\n",
       "      <th>township</th>\n",
       "      <th>county</th>\n",
       "      <th>population</th>\n",
       "    </tr>\n",
       "  </thead>\n",
       "  <tbody>\n",
       "    <tr>\n",
       "      <th>0</th>\n",
       "      <td>Adams</td>\n",
       "      <td>Dallas</td>\n",
       "      <td>1499</td>\n",
       "    </tr>\n",
       "    <tr>\n",
       "      <th>1</th>\n",
       "      <td>Adams</td>\n",
       "      <td>Delaware</td>\n",
       "      <td>713</td>\n",
       "    </tr>\n",
       "    <tr>\n",
       "      <th>2</th>\n",
       "      <td>Adams</td>\n",
       "      <td>Keokuk</td>\n",
       "      <td>400</td>\n",
       "    </tr>\n",
       "    <tr>\n",
       "      <th>3</th>\n",
       "      <td>Adams</td>\n",
       "      <td>Mahaska</td>\n",
       "      <td>234</td>\n",
       "    </tr>\n",
       "    <tr>\n",
       "      <th>4</th>\n",
       "      <td>Adams</td>\n",
       "      <td>Wapello</td>\n",
       "      <td>732</td>\n",
       "    </tr>\n",
       "    <tr>\n",
       "      <th>...</th>\n",
       "      <td>...</td>\n",
       "      <td>...</td>\n",
       "      <td>...</td>\n",
       "    </tr>\n",
       "    <tr>\n",
       "      <th>1657</th>\n",
       "      <td>Yell</td>\n",
       "      <td>Webster</td>\n",
       "      <td>67</td>\n",
       "    </tr>\n",
       "    <tr>\n",
       "      <th>1658</th>\n",
       "      <td>Yellow Springs</td>\n",
       "      <td>Des Moines</td>\n",
       "      <td>543</td>\n",
       "    </tr>\n",
       "    <tr>\n",
       "      <th>1659</th>\n",
       "      <td>York</td>\n",
       "      <td>Iowa</td>\n",
       "      <td>488</td>\n",
       "    </tr>\n",
       "    <tr>\n",
       "      <th>1660</th>\n",
       "      <td>York</td>\n",
       "      <td>Pottawattamie</td>\n",
       "      <td>308</td>\n",
       "    </tr>\n",
       "    <tr>\n",
       "      <th>1661</th>\n",
       "      <td>York</td>\n",
       "      <td>Tama</td>\n",
       "      <td>492</td>\n",
       "    </tr>\n",
       "  </tbody>\n",
       "</table>\n",
       "<p>1662 rows × 3 columns</p>\n",
       "</div>"
      ],
      "text/plain": [
       "             township           county population\n",
       "0              Adams           Dallas        1499\n",
       "1              Adams         Delaware         713\n",
       "2              Adams           Keokuk         400\n",
       "3              Adams          Mahaska         234\n",
       "4              Adams          Wapello         732\n",
       "...               ...              ...        ...\n",
       "1657            Yell          Webster          67\n",
       "1658  Yellow Springs       Des Moines         543\n",
       "1659            York             Iowa         488\n",
       "1660            York    Pottawattamie         308\n",
       "1661            York             Tama         492\n",
       "\n",
       "[1662 rows x 3 columns]"
      ]
     },
     "execution_count": 9,
     "metadata": {},
     "output_type": "execute_result"
    }
   ],
   "source": [
    "townships_reordered=townships_reordered.reset_index(drop=True)\n",
    "townships_reordered"
   ]
  },
  {
   "cell_type": "code",
   "execution_count": 11,
   "id": "3f2f7119",
   "metadata": {},
   "outputs": [],
   "source": [
    "townships_reordered.to_csv('./data/townships.csv', index=False, header=True)"
   ]
  }
 ],
 "metadata": {
  "kernelspec": {
   "display_name": "myenv",
   "language": "python",
   "name": "python3"
  },
  "language_info": {
   "codemirror_mode": {
    "name": "ipython",
    "version": 3
   },
   "file_extension": ".py",
   "mimetype": "text/x-python",
   "name": "python",
   "nbconvert_exporter": "python",
   "pygments_lexer": "ipython3",
   "version": "3.10.4"
  }
 },
 "nbformat": 4,
 "nbformat_minor": 5
}
